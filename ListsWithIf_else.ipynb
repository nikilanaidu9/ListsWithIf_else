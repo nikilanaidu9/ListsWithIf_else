{
 "cells": [
  {
   "cell_type": "code",
   "execution_count": 15,
   "metadata": {},
   "outputs": [
    {
     "name": "stdout",
     "output_type": "stream",
     "text": [
      "he is a hero\n"
     ]
    }
   ],
   "source": [
    "devil=['nikki1','nikki2','nikki3','nikki4','nikki5']\n",
    "hero=['hima1','hima2','hima3','hima4','hima5']\n",
    "\n",
    "def function(x):\n",
    "    \n",
    "    if x in devil:\n",
    "        print('she is a devil')\n",
    "    elif x in hero:\n",
    "        print('he is a hero')\n",
    "    return\n",
    "\n",
    "function('hima1')\n",
    "\n",
    "\n",
    "\n"
   ]
  },
  {
   "cell_type": "code",
   "execution_count": 16,
   "metadata": {},
   "outputs": [],
   "source": []
  },
  {
   "cell_type": "code",
   "execution_count": null,
   "metadata": {},
   "outputs": [],
   "source": []
  },
  {
   "cell_type": "code",
   "execution_count": null,
   "metadata": {},
   "outputs": [],
   "source": []
  }
 ],
 "metadata": {
  "kernelspec": {
   "display_name": "Python 3",
   "language": "python",
   "name": "python3"
  },
  "language_info": {
   "codemirror_mode": {
    "name": "ipython",
    "version": 3
   },
   "file_extension": ".py",
   "mimetype": "text/x-python",
   "name": "python",
   "nbconvert_exporter": "python",
   "pygments_lexer": "ipython3",
   "version": "3.7.4"
  }
 },
 "nbformat": 4,
 "nbformat_minor": 2
}
